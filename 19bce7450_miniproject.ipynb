{
  "nbformat": 4,
  "nbformat_minor": 0,
  "metadata": {
    "kernelspec": {
      "name": "python3",
      "display_name": "Python 3",
      "language": "python"
    },
    "language_info": {
      "name": "python",
      "version": "3.7.6",
      "mimetype": "text/x-python",
      "codemirror_mode": {
        "name": "ipython",
        "version": 3
      },
      "pygments_lexer": "ipython3",
      "nbconvert_exporter": "python",
      "file_extension": ".py"
    },
    "colab": {
      "name": "19bce7450_miniproject",
      "provenance": [],
      "collapsed_sections": []
    }
  },
  "cells": [
    {
      "cell_type": "markdown",
      "metadata": {
        "_uuid": "d629ff2d2480ee46fbb7e2d37f6b5fab8052498a",
        "collapsed": true,
        "_cell_guid": "79c7e3d0-c299-4dcb-8224-4455121ee9b0",
        "trusted": false,
        "id": "3LzPGHh_9HaQ"
      },
      "source": [
        "# Exploring Liver Disease with Machine Learning\n"
      ]
    },
    {
      "cell_type": "markdown",
      "metadata": {
        "id": "TGmoilQp9Haa"
      },
      "source": [
        "# I) Familiarizing ourselves with the data"
      ]
    },
    {
      "cell_type": "code",
      "metadata": {
        "trusted": true,
        "id": "7uXSRMHG9Hab"
      },
      "source": [
        "# Import the data processing and visualization libraries\n",
        "import pandas as pd\n",
        "import numpy as np\n",
        "import matplotlib.pyplot as plt\n",
        "import seaborn as sns\n",
        "\n",
        "%matplotlib inline"
      ],
      "execution_count": null,
      "outputs": []
    },
    {
      "cell_type": "code",
      "metadata": {
        "trusted": true,
        "id": "z9k7w2pI9Hae"
      },
      "source": [
        "\n",
        "df_liver = pd.read_csv('indian_liver_patient.csv')"
      ],
      "execution_count": null,
      "outputs": []
    },
    {
      "cell_type": "code",
      "metadata": {
        "trusted": true,
        "colab": {
          "base_uri": "https://localhost:8080/",
          "height": 226
        },
        "id": "kiYbxFvx9Haf",
        "outputId": "d42799e9-3443-4db9-f9a8-283967375af4"
      },
      "source": [
        "# Access the first 5 rows of df_liver\n",
        "df_liver.head()"
      ],
      "execution_count": null,
      "outputs": [
        {
          "output_type": "execute_result",
          "data": {
            "text/html": [
              "<div>\n",
              "<style scoped>\n",
              "    .dataframe tbody tr th:only-of-type {\n",
              "        vertical-align: middle;\n",
              "    }\n",
              "\n",
              "    .dataframe tbody tr th {\n",
              "        vertical-align: top;\n",
              "    }\n",
              "\n",
              "    .dataframe thead th {\n",
              "        text-align: right;\n",
              "    }\n",
              "</style>\n",
              "<table border=\"1\" class=\"dataframe\">\n",
              "  <thead>\n",
              "    <tr style=\"text-align: right;\">\n",
              "      <th></th>\n",
              "      <th>Age</th>\n",
              "      <th>Gender</th>\n",
              "      <th>Total_Bilirubin</th>\n",
              "      <th>Direct_Bilirubin</th>\n",
              "      <th>Alkaline_Phosphotase</th>\n",
              "      <th>Alamine_Aminotransferase</th>\n",
              "      <th>Aspartate_Aminotransferase</th>\n",
              "      <th>Total_Protiens</th>\n",
              "      <th>Albumin</th>\n",
              "      <th>Albumin_and_Globulin_Ratio</th>\n",
              "      <th>Dataset</th>\n",
              "    </tr>\n",
              "  </thead>\n",
              "  <tbody>\n",
              "    <tr>\n",
              "      <th>0</th>\n",
              "      <td>65</td>\n",
              "      <td>Female</td>\n",
              "      <td>0.7</td>\n",
              "      <td>0.1</td>\n",
              "      <td>187</td>\n",
              "      <td>16</td>\n",
              "      <td>18</td>\n",
              "      <td>6.8</td>\n",
              "      <td>3.3</td>\n",
              "      <td>0.90</td>\n",
              "      <td>1</td>\n",
              "    </tr>\n",
              "    <tr>\n",
              "      <th>1</th>\n",
              "      <td>62</td>\n",
              "      <td>Male</td>\n",
              "      <td>10.9</td>\n",
              "      <td>5.5</td>\n",
              "      <td>699</td>\n",
              "      <td>64</td>\n",
              "      <td>100</td>\n",
              "      <td>7.5</td>\n",
              "      <td>3.2</td>\n",
              "      <td>0.74</td>\n",
              "      <td>1</td>\n",
              "    </tr>\n",
              "    <tr>\n",
              "      <th>2</th>\n",
              "      <td>62</td>\n",
              "      <td>Male</td>\n",
              "      <td>7.3</td>\n",
              "      <td>4.1</td>\n",
              "      <td>490</td>\n",
              "      <td>60</td>\n",
              "      <td>68</td>\n",
              "      <td>7.0</td>\n",
              "      <td>3.3</td>\n",
              "      <td>0.89</td>\n",
              "      <td>1</td>\n",
              "    </tr>\n",
              "    <tr>\n",
              "      <th>3</th>\n",
              "      <td>58</td>\n",
              "      <td>Male</td>\n",
              "      <td>1.0</td>\n",
              "      <td>0.4</td>\n",
              "      <td>182</td>\n",
              "      <td>14</td>\n",
              "      <td>20</td>\n",
              "      <td>6.8</td>\n",
              "      <td>3.4</td>\n",
              "      <td>1.00</td>\n",
              "      <td>1</td>\n",
              "    </tr>\n",
              "    <tr>\n",
              "      <th>4</th>\n",
              "      <td>72</td>\n",
              "      <td>Male</td>\n",
              "      <td>3.9</td>\n",
              "      <td>2.0</td>\n",
              "      <td>195</td>\n",
              "      <td>27</td>\n",
              "      <td>59</td>\n",
              "      <td>7.3</td>\n",
              "      <td>2.4</td>\n",
              "      <td>0.40</td>\n",
              "      <td>1</td>\n",
              "    </tr>\n",
              "  </tbody>\n",
              "</table>\n",
              "</div>"
            ],
            "text/plain": [
              "   Age  Gender  Total_Bilirubin  ...  Albumin  Albumin_and_Globulin_Ratio  Dataset\n",
              "0   65  Female              0.7  ...      3.3                        0.90        1\n",
              "1   62    Male             10.9  ...      3.2                        0.74        1\n",
              "2   62    Male              7.3  ...      3.3                        0.89        1\n",
              "3   58    Male              1.0  ...      3.4                        1.00        1\n",
              "4   72    Male              3.9  ...      2.4                        0.40        1\n",
              "\n",
              "[5 rows x 11 columns]"
            ]
          },
          "metadata": {},
          "execution_count": 3
        }
      ]
    },
    {
      "cell_type": "markdown",
      "metadata": {
        "id": "Or2DoKVc9Has"
      },
      "source": [
        "# II) Cleaning the data\n"
      ]
    },
    {
      "cell_type": "markdown",
      "metadata": {
        "id": "tgbs3PRK9Hau"
      },
      "source": [
        "# a) Dealing with missing values"
      ]
    },
    {
      "cell_type": "code",
      "metadata": {
        "trusted": true,
        "id": "GG-e2uE39Haw"
      },
      "source": [
        "# Define a function that allows us to create a table of missing values in df_liver and their percentages in \n",
        "# descending order\n",
        "def missing_values(data):\n",
        "    total = data.isnull().sum().sort_values(ascending=False)\n",
        "    percentage = (data.isnull().sum()/data.isnull().count()).sort_values(ascending=False)\n",
        "    percentage_final = (round(percentage, 2) * 100)\n",
        "    total_percent = pd.concat(objs=[total, percentage_final], axis = 1, keys=['Total', '%'])\n",
        "    return total_percent"
      ],
      "execution_count": null,
      "outputs": []
    },
    {
      "cell_type": "code",
      "metadata": {
        "trusted": true,
        "colab": {
          "base_uri": "https://localhost:8080/",
          "height": 394
        },
        "id": "d4MCpit-9Hax",
        "outputId": "bc79726e-d663-4f64-a46e-bba394876333"
      },
      "source": [
        "# Find the total count and % of missing values \n",
        "missing_values(df_liver)"
      ],
      "execution_count": null,
      "outputs": [
        {
          "output_type": "execute_result",
          "data": {
            "text/html": [
              "<div>\n",
              "<style scoped>\n",
              "    .dataframe tbody tr th:only-of-type {\n",
              "        vertical-align: middle;\n",
              "    }\n",
              "\n",
              "    .dataframe tbody tr th {\n",
              "        vertical-align: top;\n",
              "    }\n",
              "\n",
              "    .dataframe thead th {\n",
              "        text-align: right;\n",
              "    }\n",
              "</style>\n",
              "<table border=\"1\" class=\"dataframe\">\n",
              "  <thead>\n",
              "    <tr style=\"text-align: right;\">\n",
              "      <th></th>\n",
              "      <th>Total</th>\n",
              "      <th>%</th>\n",
              "    </tr>\n",
              "  </thead>\n",
              "  <tbody>\n",
              "    <tr>\n",
              "      <th>Albumin_and_Globulin_Ratio</th>\n",
              "      <td>4</td>\n",
              "      <td>1.0</td>\n",
              "    </tr>\n",
              "    <tr>\n",
              "      <th>Dataset</th>\n",
              "      <td>0</td>\n",
              "      <td>0.0</td>\n",
              "    </tr>\n",
              "    <tr>\n",
              "      <th>Albumin</th>\n",
              "      <td>0</td>\n",
              "      <td>0.0</td>\n",
              "    </tr>\n",
              "    <tr>\n",
              "      <th>Total_Protiens</th>\n",
              "      <td>0</td>\n",
              "      <td>0.0</td>\n",
              "    </tr>\n",
              "    <tr>\n",
              "      <th>Aspartate_Aminotransferase</th>\n",
              "      <td>0</td>\n",
              "      <td>0.0</td>\n",
              "    </tr>\n",
              "    <tr>\n",
              "      <th>Alamine_Aminotransferase</th>\n",
              "      <td>0</td>\n",
              "      <td>0.0</td>\n",
              "    </tr>\n",
              "    <tr>\n",
              "      <th>Alkaline_Phosphotase</th>\n",
              "      <td>0</td>\n",
              "      <td>0.0</td>\n",
              "    </tr>\n",
              "    <tr>\n",
              "      <th>Direct_Bilirubin</th>\n",
              "      <td>0</td>\n",
              "      <td>0.0</td>\n",
              "    </tr>\n",
              "    <tr>\n",
              "      <th>Total_Bilirubin</th>\n",
              "      <td>0</td>\n",
              "      <td>0.0</td>\n",
              "    </tr>\n",
              "    <tr>\n",
              "      <th>Gender</th>\n",
              "      <td>0</td>\n",
              "      <td>0.0</td>\n",
              "    </tr>\n",
              "    <tr>\n",
              "      <th>Age</th>\n",
              "      <td>0</td>\n",
              "      <td>0.0</td>\n",
              "    </tr>\n",
              "  </tbody>\n",
              "</table>\n",
              "</div>"
            ],
            "text/plain": [
              "                            Total    %\n",
              "Albumin_and_Globulin_Ratio      4  1.0\n",
              "Dataset                         0  0.0\n",
              "Albumin                         0  0.0\n",
              "Total_Protiens                  0  0.0\n",
              "Aspartate_Aminotransferase      0  0.0\n",
              "Alamine_Aminotransferase        0  0.0\n",
              "Alkaline_Phosphotase            0  0.0\n",
              "Direct_Bilirubin                0  0.0\n",
              "Total_Bilirubin                 0  0.0\n",
              "Gender                          0  0.0\n",
              "Age                             0  0.0"
            ]
          },
          "metadata": {},
          "execution_count": 5
        }
      ]
    },
    {
      "cell_type": "code",
      "metadata": {
        "trusted": true,
        "colab": {
          "base_uri": "https://localhost:8080/"
        },
        "id": "PVQXt9sh9Hay",
        "outputId": "b09b571d-637f-47aa-f6af-192570346b36"
      },
      "source": [
        "# Replace missing values with the mean of feature column Albumin_and_Globulin_Ratio, \n",
        "# then check to see that it has been successfull, where the sum of missig values should be 0\n",
        "df_liver['Albumin_and_Globulin_Ratio'].fillna(df_liver['Albumin_and_Globulin_Ratio'].mean(), inplace = True)\n",
        "df_liver['Albumin_and_Globulin_Ratio'].isnull().sum()"
      ],
      "execution_count": null,
      "outputs": [
        {
          "output_type": "execute_result",
          "data": {
            "text/plain": [
              "0"
            ]
          },
          "metadata": {},
          "execution_count": 6
        }
      ]
    },
    {
      "cell_type": "code",
      "metadata": {
        "trusted": true,
        "colab": {
          "base_uri": "https://localhost:8080/",
          "height": 394
        },
        "id": "WPoHFF0d9Haz",
        "outputId": "a2362813-d983-4cb2-e824-c0daec0417b8"
      },
      "source": [
        "# Repeat to see what is the % of missing values\n",
        "missing_values(df_liver)"
      ],
      "execution_count": null,
      "outputs": [
        {
          "output_type": "execute_result",
          "data": {
            "text/html": [
              "<div>\n",
              "<style scoped>\n",
              "    .dataframe tbody tr th:only-of-type {\n",
              "        vertical-align: middle;\n",
              "    }\n",
              "\n",
              "    .dataframe tbody tr th {\n",
              "        vertical-align: top;\n",
              "    }\n",
              "\n",
              "    .dataframe thead th {\n",
              "        text-align: right;\n",
              "    }\n",
              "</style>\n",
              "<table border=\"1\" class=\"dataframe\">\n",
              "  <thead>\n",
              "    <tr style=\"text-align: right;\">\n",
              "      <th></th>\n",
              "      <th>Total</th>\n",
              "      <th>%</th>\n",
              "    </tr>\n",
              "  </thead>\n",
              "  <tbody>\n",
              "    <tr>\n",
              "      <th>Dataset</th>\n",
              "      <td>0</td>\n",
              "      <td>0.0</td>\n",
              "    </tr>\n",
              "    <tr>\n",
              "      <th>Albumin_and_Globulin_Ratio</th>\n",
              "      <td>0</td>\n",
              "      <td>0.0</td>\n",
              "    </tr>\n",
              "    <tr>\n",
              "      <th>Albumin</th>\n",
              "      <td>0</td>\n",
              "      <td>0.0</td>\n",
              "    </tr>\n",
              "    <tr>\n",
              "      <th>Total_Protiens</th>\n",
              "      <td>0</td>\n",
              "      <td>0.0</td>\n",
              "    </tr>\n",
              "    <tr>\n",
              "      <th>Aspartate_Aminotransferase</th>\n",
              "      <td>0</td>\n",
              "      <td>0.0</td>\n",
              "    </tr>\n",
              "    <tr>\n",
              "      <th>Alamine_Aminotransferase</th>\n",
              "      <td>0</td>\n",
              "      <td>0.0</td>\n",
              "    </tr>\n",
              "    <tr>\n",
              "      <th>Alkaline_Phosphotase</th>\n",
              "      <td>0</td>\n",
              "      <td>0.0</td>\n",
              "    </tr>\n",
              "    <tr>\n",
              "      <th>Direct_Bilirubin</th>\n",
              "      <td>0</td>\n",
              "      <td>0.0</td>\n",
              "    </tr>\n",
              "    <tr>\n",
              "      <th>Total_Bilirubin</th>\n",
              "      <td>0</td>\n",
              "      <td>0.0</td>\n",
              "    </tr>\n",
              "    <tr>\n",
              "      <th>Gender</th>\n",
              "      <td>0</td>\n",
              "      <td>0.0</td>\n",
              "    </tr>\n",
              "    <tr>\n",
              "      <th>Age</th>\n",
              "      <td>0</td>\n",
              "      <td>0.0</td>\n",
              "    </tr>\n",
              "  </tbody>\n",
              "</table>\n",
              "</div>"
            ],
            "text/plain": [
              "                            Total    %\n",
              "Dataset                         0  0.0\n",
              "Albumin_and_Globulin_Ratio      0  0.0\n",
              "Albumin                         0  0.0\n",
              "Total_Protiens                  0  0.0\n",
              "Aspartate_Aminotransferase      0  0.0\n",
              "Alamine_Aminotransferase        0  0.0\n",
              "Alkaline_Phosphotase            0  0.0\n",
              "Direct_Bilirubin                0  0.0\n",
              "Total_Bilirubin                 0  0.0\n",
              "Gender                          0  0.0\n",
              "Age                             0  0.0"
            ]
          },
          "metadata": {},
          "execution_count": 7
        }
      ]
    },
    {
      "cell_type": "markdown",
      "metadata": {
        "id": "wVNtKJKp9Ha0"
      },
      "source": [
        "# b) Exploring the data visually"
      ]
    },
    {
      "cell_type": "code",
      "metadata": {
        "trusted": true,
        "colab": {
          "base_uri": "https://localhost:8080/",
          "height": 383
        },
        "id": "ONVPG5z-9Ha2",
        "outputId": "7e7233f8-10c0-4fc3-d87d-e42db72e2a04"
      },
      "source": [
        "\n",
        "df_liver.corr().style.background_gradient(cmap='coolwarm')"
      ],
      "execution_count": null,
      "outputs": [
        {
          "output_type": "execute_result",
          "data": {
            "text/html": [
              "<style  type=\"text/css\" >\n",
              "#T_38989558_4603_11ec_8a4c_0242ac1c0002row0_col0,#T_38989558_4603_11ec_8a4c_0242ac1c0002row1_col1,#T_38989558_4603_11ec_8a4c_0242ac1c0002row2_col2,#T_38989558_4603_11ec_8a4c_0242ac1c0002row3_col3,#T_38989558_4603_11ec_8a4c_0242ac1c0002row4_col4,#T_38989558_4603_11ec_8a4c_0242ac1c0002row5_col5,#T_38989558_4603_11ec_8a4c_0242ac1c0002row6_col6,#T_38989558_4603_11ec_8a4c_0242ac1c0002row7_col7,#T_38989558_4603_11ec_8a4c_0242ac1c0002row8_col8,#T_38989558_4603_11ec_8a4c_0242ac1c0002row9_col9{\n",
              "            background-color:  #b40426;\n",
              "            color:  #f1f1f1;\n",
              "        }#T_38989558_4603_11ec_8a4c_0242ac1c0002row0_col1,#T_38989558_4603_11ec_8a4c_0242ac1c0002row5_col0{\n",
              "            background-color:  #799cf8;\n",
              "            color:  #000000;\n",
              "        }#T_38989558_4603_11ec_8a4c_0242ac1c0002row0_col2{\n",
              "            background-color:  #7da0f9;\n",
              "            color:  #000000;\n",
              "        }#T_38989558_4603_11ec_8a4c_0242ac1c0002row0_col3{\n",
              "            background-color:  #8fb1fe;\n",
              "            color:  #000000;\n",
              "        }#T_38989558_4603_11ec_8a4c_0242ac1c0002row0_col4,#T_38989558_4603_11ec_8a4c_0242ac1c0002row4_col9{\n",
              "            background-color:  #4e68d8;\n",
              "            color:  #000000;\n",
              "        }#T_38989558_4603_11ec_8a4c_0242ac1c0002row0_col5,#T_38989558_4603_11ec_8a4c_0242ac1c0002row7_col4{\n",
              "            background-color:  #5e7de7;\n",
              "            color:  #000000;\n",
              "        }#T_38989558_4603_11ec_8a4c_0242ac1c0002row0_col6,#T_38989558_4603_11ec_8a4c_0242ac1c0002row0_col7,#T_38989558_4603_11ec_8a4c_0242ac1c0002row2_col9,#T_38989558_4603_11ec_8a4c_0242ac1c0002row3_col8,#T_38989558_4603_11ec_8a4c_0242ac1c0002row7_col0,#T_38989558_4603_11ec_8a4c_0242ac1c0002row7_col1,#T_38989558_4603_11ec_8a4c_0242ac1c0002row8_col3,#T_38989558_4603_11ec_8a4c_0242ac1c0002row9_col1,#T_38989558_4603_11ec_8a4c_0242ac1c0002row9_col2,#T_38989558_4603_11ec_8a4c_0242ac1c0002row9_col4,#T_38989558_4603_11ec_8a4c_0242ac1c0002row9_col5{\n",
              "            background-color:  #3b4cc0;\n",
              "            color:  #f1f1f1;\n",
              "        }#T_38989558_4603_11ec_8a4c_0242ac1c0002row0_col8,#T_38989558_4603_11ec_8a4c_0242ac1c0002row7_col2,#T_38989558_4603_11ec_8a4c_0242ac1c0002row8_col1{\n",
              "            background-color:  #3e51c5;\n",
              "            color:  #f1f1f1;\n",
              "        }#T_38989558_4603_11ec_8a4c_0242ac1c0002row0_col9{\n",
              "            background-color:  #5572df;\n",
              "            color:  #000000;\n",
              "        }#T_38989558_4603_11ec_8a4c_0242ac1c0002row1_col0{\n",
              "            background-color:  #82a6fb;\n",
              "            color:  #000000;\n",
              "        }#T_38989558_4603_11ec_8a4c_0242ac1c0002row1_col2{\n",
              "            background-color:  #d65244;\n",
              "            color:  #000000;\n",
              "        }#T_38989558_4603_11ec_8a4c_0242ac1c0002row1_col3,#T_38989558_4603_11ec_8a4c_0242ac1c0002row2_col5,#T_38989558_4603_11ec_8a4c_0242ac1c0002row4_col1{\n",
              "            background-color:  #b2ccfb;\n",
              "            color:  #000000;\n",
              "        }#T_38989558_4603_11ec_8a4c_0242ac1c0002row1_col4,#T_38989558_4603_11ec_8a4c_0242ac1c0002row5_col3,#T_38989558_4603_11ec_8a4c_0242ac1c0002row7_col9,#T_38989558_4603_11ec_8a4c_0242ac1c0002row8_col9{\n",
              "            background-color:  #a7c5fe;\n",
              "            color:  #000000;\n",
              "        }#T_38989558_4603_11ec_8a4c_0242ac1c0002row1_col5,#T_38989558_4603_11ec_8a4c_0242ac1c0002row9_col7{\n",
              "            background-color:  #abc8fd;\n",
              "            color:  #000000;\n",
              "        }#T_38989558_4603_11ec_8a4c_0242ac1c0002row1_col6{\n",
              "            background-color:  #6a8bef;\n",
              "            color:  #000000;\n",
              "        }#T_38989558_4603_11ec_8a4c_0242ac1c0002row1_col7{\n",
              "            background-color:  #445acc;\n",
              "            color:  #f1f1f1;\n",
              "        }#T_38989558_4603_11ec_8a4c_0242ac1c0002row1_col8,#T_38989558_4603_11ec_8a4c_0242ac1c0002row1_col9{\n",
              "            background-color:  #4055c8;\n",
              "            color:  #f1f1f1;\n",
              "        }#T_38989558_4603_11ec_8a4c_0242ac1c0002row2_col0{\n",
              "            background-color:  #81a4fb;\n",
              "            color:  #000000;\n",
              "        }#T_38989558_4603_11ec_8a4c_0242ac1c0002row2_col1{\n",
              "            background-color:  #d75445;\n",
              "            color:  #000000;\n",
              "        }#T_38989558_4603_11ec_8a4c_0242ac1c0002row2_col3,#T_38989558_4603_11ec_8a4c_0242ac1c0002row6_col8{\n",
              "            background-color:  #bad0f8;\n",
              "            color:  #000000;\n",
              "        }#T_38989558_4603_11ec_8a4c_0242ac1c0002row2_col4{\n",
              "            background-color:  #adc9fd;\n",
              "            color:  #000000;\n",
              "        }#T_38989558_4603_11ec_8a4c_0242ac1c0002row2_col6{\n",
              "            background-color:  #6c8ff1;\n",
              "            color:  #000000;\n",
              "        }#T_38989558_4603_11ec_8a4c_0242ac1c0002row2_col7,#T_38989558_4603_11ec_8a4c_0242ac1c0002row2_col8{\n",
              "            background-color:  #4358cb;\n",
              "            color:  #f1f1f1;\n",
              "        }#T_38989558_4603_11ec_8a4c_0242ac1c0002row3_col0,#T_38989558_4603_11ec_8a4c_0242ac1c0002row3_col5{\n",
              "            background-color:  #96b7ff;\n",
              "            color:  #000000;\n",
              "        }#T_38989558_4603_11ec_8a4c_0242ac1c0002row3_col1{\n",
              "            background-color:  #afcafc;\n",
              "            color:  #000000;\n",
              "        }#T_38989558_4603_11ec_8a4c_0242ac1c0002row3_col2,#T_38989558_4603_11ec_8a4c_0242ac1c0002row4_col2{\n",
              "            background-color:  #bbd1f8;\n",
              "            color:  #000000;\n",
              "        }#T_38989558_4603_11ec_8a4c_0242ac1c0002row3_col4{\n",
              "            background-color:  #8caffe;\n",
              "            color:  #000000;\n",
              "        }#T_38989558_4603_11ec_8a4c_0242ac1c0002row3_col6,#T_38989558_4603_11ec_8a4c_0242ac1c0002row5_col6,#T_38989558_4603_11ec_8a4c_0242ac1c0002row5_col8{\n",
              "            background-color:  #6485ec;\n",
              "            color:  #000000;\n",
              "        }#T_38989558_4603_11ec_8a4c_0242ac1c0002row3_col7{\n",
              "            background-color:  #536edd;\n",
              "            color:  #000000;\n",
              "        }#T_38989558_4603_11ec_8a4c_0242ac1c0002row3_col9{\n",
              "            background-color:  #4961d2;\n",
              "            color:  #f1f1f1;\n",
              "        }#T_38989558_4603_11ec_8a4c_0242ac1c0002row4_col0,#T_38989558_4603_11ec_8a4c_0242ac1c0002row5_col7{\n",
              "            background-color:  #6788ee;\n",
              "            color:  #000000;\n",
              "        }#T_38989558_4603_11ec_8a4c_0242ac1c0002row4_col3{\n",
              "            background-color:  #9bbcff;\n",
              "            color:  #000000;\n",
              "        }#T_38989558_4603_11ec_8a4c_0242ac1c0002row4_col5,#T_38989558_4603_11ec_8a4c_0242ac1c0002row7_col6{\n",
              "            background-color:  #ea7b60;\n",
              "            color:  #000000;\n",
              "        }#T_38989558_4603_11ec_8a4c_0242ac1c0002row4_col6{\n",
              "            background-color:  #6180e9;\n",
              "            color:  #000000;\n",
              "        }#T_38989558_4603_11ec_8a4c_0242ac1c0002row4_col7,#T_38989558_4603_11ec_8a4c_0242ac1c0002row9_col6{\n",
              "            background-color:  #7699f6;\n",
              "            color:  #000000;\n",
              "        }#T_38989558_4603_11ec_8a4c_0242ac1c0002row4_col8{\n",
              "            background-color:  #779af7;\n",
              "            color:  #000000;\n",
              "        }#T_38989558_4603_11ec_8a4c_0242ac1c0002row5_col1{\n",
              "            background-color:  #b9d0f9;\n",
              "            color:  #000000;\n",
              "        }#T_38989558_4603_11ec_8a4c_0242ac1c0002row5_col2{\n",
              "            background-color:  #c1d4f4;\n",
              "            color:  #000000;\n",
              "        }#T_38989558_4603_11ec_8a4c_0242ac1c0002row5_col4{\n",
              "            background-color:  #e97a5f;\n",
              "            color:  #000000;\n",
              "        }#T_38989558_4603_11ec_8a4c_0242ac1c0002row5_col9{\n",
              "            background-color:  #516ddb;\n",
              "            color:  #000000;\n",
              "        }#T_38989558_4603_11ec_8a4c_0242ac1c0002row6_col0{\n",
              "            background-color:  #4c66d6;\n",
              "            color:  #000000;\n",
              "        }#T_38989558_4603_11ec_8a4c_0242ac1c0002row6_col1{\n",
              "            background-color:  #7295f4;\n",
              "            color:  #000000;\n",
              "        }#T_38989558_4603_11ec_8a4c_0242ac1c0002row6_col2{\n",
              "            background-color:  #7a9df8;\n",
              "            color:  #000000;\n",
              "        }#T_38989558_4603_11ec_8a4c_0242ac1c0002row6_col3{\n",
              "            background-color:  #6f92f3;\n",
              "            color:  #000000;\n",
              "        }#T_38989558_4603_11ec_8a4c_0242ac1c0002row6_col4,#T_38989558_4603_11ec_8a4c_0242ac1c0002row9_col0{\n",
              "            background-color:  #5a78e4;\n",
              "            color:  #000000;\n",
              "        }#T_38989558_4603_11ec_8a4c_0242ac1c0002row6_col5{\n",
              "            background-color:  #5d7ce6;\n",
              "            color:  #000000;\n",
              "        }#T_38989558_4603_11ec_8a4c_0242ac1c0002row6_col7{\n",
              "            background-color:  #e8765c;\n",
              "            color:  #000000;\n",
              "        }#T_38989558_4603_11ec_8a4c_0242ac1c0002row6_col9{\n",
              "            background-color:  #84a7fc;\n",
              "            color:  #000000;\n",
              "        }#T_38989558_4603_11ec_8a4c_0242ac1c0002row7_col3,#T_38989558_4603_11ec_8a4c_0242ac1c0002row7_col5{\n",
              "            background-color:  #4b64d5;\n",
              "            color:  #f1f1f1;\n",
              "        }#T_38989558_4603_11ec_8a4c_0242ac1c0002row7_col8{\n",
              "            background-color:  #f59c7d;\n",
              "            color:  #000000;\n",
              "        }#T_38989558_4603_11ec_8a4c_0242ac1c0002row8_col0,#T_38989558_4603_11ec_8a4c_0242ac1c0002row9_col3{\n",
              "            background-color:  #465ecf;\n",
              "            color:  #f1f1f1;\n",
              "        }#T_38989558_4603_11ec_8a4c_0242ac1c0002row8_col2{\n",
              "            background-color:  #455cce;\n",
              "            color:  #f1f1f1;\n",
              "        }#T_38989558_4603_11ec_8a4c_0242ac1c0002row8_col4{\n",
              "            background-color:  #6687ed;\n",
              "            color:  #000000;\n",
              "        }#T_38989558_4603_11ec_8a4c_0242ac1c0002row8_col5{\n",
              "            background-color:  #506bda;\n",
              "            color:  #000000;\n",
              "        }#T_38989558_4603_11ec_8a4c_0242ac1c0002row8_col6{\n",
              "            background-color:  #b1cbfc;\n",
              "            color:  #000000;\n",
              "        }#T_38989558_4603_11ec_8a4c_0242ac1c0002row8_col7{\n",
              "            background-color:  #f4987a;\n",
              "            color:  #000000;\n",
              "        }#T_38989558_4603_11ec_8a4c_0242ac1c0002row9_col8{\n",
              "            background-color:  #a6c4fe;\n",
              "            color:  #000000;\n",
              "        }</style><table id=\"T_38989558_4603_11ec_8a4c_0242ac1c0002\" class=\"dataframe\"><thead>    <tr>        <th class=\"blank level0\" ></th>        <th class=\"col_heading level0 col0\" >Age</th>        <th class=\"col_heading level0 col1\" >Total_Bilirubin</th>        <th class=\"col_heading level0 col2\" >Direct_Bilirubin</th>        <th class=\"col_heading level0 col3\" >Alkaline_Phosphotase</th>        <th class=\"col_heading level0 col4\" >Alamine_Aminotransferase</th>        <th class=\"col_heading level0 col5\" >Aspartate_Aminotransferase</th>        <th class=\"col_heading level0 col6\" >Total_Protiens</th>        <th class=\"col_heading level0 col7\" >Albumin</th>        <th class=\"col_heading level0 col8\" >Albumin_and_Globulin_Ratio</th>        <th class=\"col_heading level0 col9\" >Dataset</th>    </tr></thead><tbody>\n",
              "                <tr>\n",
              "                        <th id=\"T_38989558_4603_11ec_8a4c_0242ac1c0002level0_row0\" class=\"row_heading level0 row0\" >Age</th>\n",
              "                        <td id=\"T_38989558_4603_11ec_8a4c_0242ac1c0002row0_col0\" class=\"data row0 col0\" >1.000000</td>\n",
              "                        <td id=\"T_38989558_4603_11ec_8a4c_0242ac1c0002row0_col1\" class=\"data row0 col1\" >0.011763</td>\n",
              "                        <td id=\"T_38989558_4603_11ec_8a4c_0242ac1c0002row0_col2\" class=\"data row0 col2\" >0.007529</td>\n",
              "                        <td id=\"T_38989558_4603_11ec_8a4c_0242ac1c0002row0_col3\" class=\"data row0 col3\" >0.080425</td>\n",
              "                        <td id=\"T_38989558_4603_11ec_8a4c_0242ac1c0002row0_col4\" class=\"data row0 col4\" >-0.086883</td>\n",
              "                        <td id=\"T_38989558_4603_11ec_8a4c_0242ac1c0002row0_col5\" class=\"data row0 col5\" >-0.019910</td>\n",
              "                        <td id=\"T_38989558_4603_11ec_8a4c_0242ac1c0002row0_col6\" class=\"data row0 col6\" >-0.187461</td>\n",
              "                        <td id=\"T_38989558_4603_11ec_8a4c_0242ac1c0002row0_col7\" class=\"data row0 col7\" >-0.265924</td>\n",
              "                        <td id=\"T_38989558_4603_11ec_8a4c_0242ac1c0002row0_col8\" class=\"data row0 col8\" >-0.216089</td>\n",
              "                        <td id=\"T_38989558_4603_11ec_8a4c_0242ac1c0002row0_col9\" class=\"data row0 col9\" >-0.137351</td>\n",
              "            </tr>\n",
              "            <tr>\n",
              "                        <th id=\"T_38989558_4603_11ec_8a4c_0242ac1c0002level0_row1\" class=\"row_heading level0 row1\" >Total_Bilirubin</th>\n",
              "                        <td id=\"T_38989558_4603_11ec_8a4c_0242ac1c0002row1_col0\" class=\"data row1 col0\" >0.011763</td>\n",
              "                        <td id=\"T_38989558_4603_11ec_8a4c_0242ac1c0002row1_col1\" class=\"data row1 col1\" >1.000000</td>\n",
              "                        <td id=\"T_38989558_4603_11ec_8a4c_0242ac1c0002row1_col2\" class=\"data row1 col2\" >0.874618</td>\n",
              "                        <td id=\"T_38989558_4603_11ec_8a4c_0242ac1c0002row1_col3\" class=\"data row1 col3\" >0.206669</td>\n",
              "                        <td id=\"T_38989558_4603_11ec_8a4c_0242ac1c0002row1_col4\" class=\"data row1 col4\" >0.214065</td>\n",
              "                        <td id=\"T_38989558_4603_11ec_8a4c_0242ac1c0002row1_col5\" class=\"data row1 col5\" >0.237831</td>\n",
              "                        <td id=\"T_38989558_4603_11ec_8a4c_0242ac1c0002row1_col6\" class=\"data row1 col6\" >-0.008099</td>\n",
              "                        <td id=\"T_38989558_4603_11ec_8a4c_0242ac1c0002row1_col7\" class=\"data row1 col7\" >-0.222250</td>\n",
              "                        <td id=\"T_38989558_4603_11ec_8a4c_0242ac1c0002row1_col8\" class=\"data row1 col8\" >-0.206159</td>\n",
              "                        <td id=\"T_38989558_4603_11ec_8a4c_0242ac1c0002row1_col9\" class=\"data row1 col9\" >-0.220208</td>\n",
              "            </tr>\n",
              "            <tr>\n",
              "                        <th id=\"T_38989558_4603_11ec_8a4c_0242ac1c0002level0_row2\" class=\"row_heading level0 row2\" >Direct_Bilirubin</th>\n",
              "                        <td id=\"T_38989558_4603_11ec_8a4c_0242ac1c0002row2_col0\" class=\"data row2 col0\" >0.007529</td>\n",
              "                        <td id=\"T_38989558_4603_11ec_8a4c_0242ac1c0002row2_col1\" class=\"data row2 col1\" >0.874618</td>\n",
              "                        <td id=\"T_38989558_4603_11ec_8a4c_0242ac1c0002row2_col2\" class=\"data row2 col2\" >1.000000</td>\n",
              "                        <td id=\"T_38989558_4603_11ec_8a4c_0242ac1c0002row2_col3\" class=\"data row2 col3\" >0.234939</td>\n",
              "                        <td id=\"T_38989558_4603_11ec_8a4c_0242ac1c0002row2_col4\" class=\"data row2 col4\" >0.233894</td>\n",
              "                        <td id=\"T_38989558_4603_11ec_8a4c_0242ac1c0002row2_col5\" class=\"data row2 col5\" >0.257544</td>\n",
              "                        <td id=\"T_38989558_4603_11ec_8a4c_0242ac1c0002row2_col6\" class=\"data row2 col6\" >-0.000139</td>\n",
              "                        <td id=\"T_38989558_4603_11ec_8a4c_0242ac1c0002row2_col7\" class=\"data row2 col7\" >-0.228531</td>\n",
              "                        <td id=\"T_38989558_4603_11ec_8a4c_0242ac1c0002row2_col8\" class=\"data row2 col8\" >-0.200004</td>\n",
              "                        <td id=\"T_38989558_4603_11ec_8a4c_0242ac1c0002row2_col9\" class=\"data row2 col9\" >-0.246046</td>\n",
              "            </tr>\n",
              "            <tr>\n",
              "                        <th id=\"T_38989558_4603_11ec_8a4c_0242ac1c0002level0_row3\" class=\"row_heading level0 row3\" >Alkaline_Phosphotase</th>\n",
              "                        <td id=\"T_38989558_4603_11ec_8a4c_0242ac1c0002row3_col0\" class=\"data row3 col0\" >0.080425</td>\n",
              "                        <td id=\"T_38989558_4603_11ec_8a4c_0242ac1c0002row3_col1\" class=\"data row3 col1\" >0.206669</td>\n",
              "                        <td id=\"T_38989558_4603_11ec_8a4c_0242ac1c0002row3_col2\" class=\"data row3 col2\" >0.234939</td>\n",
              "                        <td id=\"T_38989558_4603_11ec_8a4c_0242ac1c0002row3_col3\" class=\"data row3 col3\" >1.000000</td>\n",
              "                        <td id=\"T_38989558_4603_11ec_8a4c_0242ac1c0002row3_col4\" class=\"data row3 col4\" >0.125680</td>\n",
              "                        <td id=\"T_38989558_4603_11ec_8a4c_0242ac1c0002row3_col5\" class=\"data row3 col5\" >0.167196</td>\n",
              "                        <td id=\"T_38989558_4603_11ec_8a4c_0242ac1c0002row3_col6\" class=\"data row3 col6\" >-0.028514</td>\n",
              "                        <td id=\"T_38989558_4603_11ec_8a4c_0242ac1c0002row3_col7\" class=\"data row3 col7\" >-0.165453</td>\n",
              "                        <td id=\"T_38989558_4603_11ec_8a4c_0242ac1c0002row3_col8\" class=\"data row3 col8\" >-0.233960</td>\n",
              "                        <td id=\"T_38989558_4603_11ec_8a4c_0242ac1c0002row3_col9\" class=\"data row3 col9\" >-0.184866</td>\n",
              "            </tr>\n",
              "            <tr>\n",
              "                        <th id=\"T_38989558_4603_11ec_8a4c_0242ac1c0002level0_row4\" class=\"row_heading level0 row4\" >Alamine_Aminotransferase</th>\n",
              "                        <td id=\"T_38989558_4603_11ec_8a4c_0242ac1c0002row4_col0\" class=\"data row4 col0\" >-0.086883</td>\n",
              "                        <td id=\"T_38989558_4603_11ec_8a4c_0242ac1c0002row4_col1\" class=\"data row4 col1\" >0.214065</td>\n",
              "                        <td id=\"T_38989558_4603_11ec_8a4c_0242ac1c0002row4_col2\" class=\"data row4 col2\" >0.233894</td>\n",
              "                        <td id=\"T_38989558_4603_11ec_8a4c_0242ac1c0002row4_col3\" class=\"data row4 col3\" >0.125680</td>\n",
              "                        <td id=\"T_38989558_4603_11ec_8a4c_0242ac1c0002row4_col4\" class=\"data row4 col4\" >1.000000</td>\n",
              "                        <td id=\"T_38989558_4603_11ec_8a4c_0242ac1c0002row4_col5\" class=\"data row4 col5\" >0.791966</td>\n",
              "                        <td id=\"T_38989558_4603_11ec_8a4c_0242ac1c0002row4_col6\" class=\"data row4 col6\" >-0.042518</td>\n",
              "                        <td id=\"T_38989558_4603_11ec_8a4c_0242ac1c0002row4_col7\" class=\"data row4 col7\" >-0.029742</td>\n",
              "                        <td id=\"T_38989558_4603_11ec_8a4c_0242ac1c0002row4_col8\" class=\"data row4 col8\" >-0.002374</td>\n",
              "                        <td id=\"T_38989558_4603_11ec_8a4c_0242ac1c0002row4_col9\" class=\"data row4 col9\" >-0.163416</td>\n",
              "            </tr>\n",
              "            <tr>\n",
              "                        <th id=\"T_38989558_4603_11ec_8a4c_0242ac1c0002level0_row5\" class=\"row_heading level0 row5\" >Aspartate_Aminotransferase</th>\n",
              "                        <td id=\"T_38989558_4603_11ec_8a4c_0242ac1c0002row5_col0\" class=\"data row5 col0\" >-0.019910</td>\n",
              "                        <td id=\"T_38989558_4603_11ec_8a4c_0242ac1c0002row5_col1\" class=\"data row5 col1\" >0.237831</td>\n",
              "                        <td id=\"T_38989558_4603_11ec_8a4c_0242ac1c0002row5_col2\" class=\"data row5 col2\" >0.257544</td>\n",
              "                        <td id=\"T_38989558_4603_11ec_8a4c_0242ac1c0002row5_col3\" class=\"data row5 col3\" >0.167196</td>\n",
              "                        <td id=\"T_38989558_4603_11ec_8a4c_0242ac1c0002row5_col4\" class=\"data row5 col4\" >0.791966</td>\n",
              "                        <td id=\"T_38989558_4603_11ec_8a4c_0242ac1c0002row5_col5\" class=\"data row5 col5\" >1.000000</td>\n",
              "                        <td id=\"T_38989558_4603_11ec_8a4c_0242ac1c0002row5_col6\" class=\"data row5 col6\" >-0.025645</td>\n",
              "                        <td id=\"T_38989558_4603_11ec_8a4c_0242ac1c0002row5_col7\" class=\"data row5 col7\" >-0.085290</td>\n",
              "                        <td id=\"T_38989558_4603_11ec_8a4c_0242ac1c0002row5_col8\" class=\"data row5 col8\" >-0.070024</td>\n",
              "                        <td id=\"T_38989558_4603_11ec_8a4c_0242ac1c0002row5_col9\" class=\"data row5 col9\" >-0.151934</td>\n",
              "            </tr>\n",
              "            <tr>\n",
              "                        <th id=\"T_38989558_4603_11ec_8a4c_0242ac1c0002level0_row6\" class=\"row_heading level0 row6\" >Total_Protiens</th>\n",
              "                        <td id=\"T_38989558_4603_11ec_8a4c_0242ac1c0002row6_col0\" class=\"data row6 col0\" >-0.187461</td>\n",
              "                        <td id=\"T_38989558_4603_11ec_8a4c_0242ac1c0002row6_col1\" class=\"data row6 col1\" >-0.008099</td>\n",
              "                        <td id=\"T_38989558_4603_11ec_8a4c_0242ac1c0002row6_col2\" class=\"data row6 col2\" >-0.000139</td>\n",
              "                        <td id=\"T_38989558_4603_11ec_8a4c_0242ac1c0002row6_col3\" class=\"data row6 col3\" >-0.028514</td>\n",
              "                        <td id=\"T_38989558_4603_11ec_8a4c_0242ac1c0002row6_col4\" class=\"data row6 col4\" >-0.042518</td>\n",
              "                        <td id=\"T_38989558_4603_11ec_8a4c_0242ac1c0002row6_col5\" class=\"data row6 col5\" >-0.025645</td>\n",
              "                        <td id=\"T_38989558_4603_11ec_8a4c_0242ac1c0002row6_col6\" class=\"data row6 col6\" >1.000000</td>\n",
              "                        <td id=\"T_38989558_4603_11ec_8a4c_0242ac1c0002row6_col7\" class=\"data row6 col7\" >0.784053</td>\n",
              "                        <td id=\"T_38989558_4603_11ec_8a4c_0242ac1c0002row6_col8\" class=\"data row6 col8\" >0.233904</td>\n",
              "                        <td id=\"T_38989558_4603_11ec_8a4c_0242ac1c0002row6_col9\" class=\"data row6 col9\" >0.035008</td>\n",
              "            </tr>\n",
              "            <tr>\n",
              "                        <th id=\"T_38989558_4603_11ec_8a4c_0242ac1c0002level0_row7\" class=\"row_heading level0 row7\" >Albumin</th>\n",
              "                        <td id=\"T_38989558_4603_11ec_8a4c_0242ac1c0002row7_col0\" class=\"data row7 col0\" >-0.265924</td>\n",
              "                        <td id=\"T_38989558_4603_11ec_8a4c_0242ac1c0002row7_col1\" class=\"data row7 col1\" >-0.222250</td>\n",
              "                        <td id=\"T_38989558_4603_11ec_8a4c_0242ac1c0002row7_col2\" class=\"data row7 col2\" >-0.228531</td>\n",
              "                        <td id=\"T_38989558_4603_11ec_8a4c_0242ac1c0002row7_col3\" class=\"data row7 col3\" >-0.165453</td>\n",
              "                        <td id=\"T_38989558_4603_11ec_8a4c_0242ac1c0002row7_col4\" class=\"data row7 col4\" >-0.029742</td>\n",
              "                        <td id=\"T_38989558_4603_11ec_8a4c_0242ac1c0002row7_col5\" class=\"data row7 col5\" >-0.085290</td>\n",
              "                        <td id=\"T_38989558_4603_11ec_8a4c_0242ac1c0002row7_col6\" class=\"data row7 col6\" >0.784053</td>\n",
              "                        <td id=\"T_38989558_4603_11ec_8a4c_0242ac1c0002row7_col7\" class=\"data row7 col7\" >1.000000</td>\n",
              "                        <td id=\"T_38989558_4603_11ec_8a4c_0242ac1c0002row7_col8\" class=\"data row7 col8\" >0.686322</td>\n",
              "                        <td id=\"T_38989558_4603_11ec_8a4c_0242ac1c0002row7_col9\" class=\"data row7 col9\" >0.161388</td>\n",
              "            </tr>\n",
              "            <tr>\n",
              "                        <th id=\"T_38989558_4603_11ec_8a4c_0242ac1c0002level0_row8\" class=\"row_heading level0 row8\" >Albumin_and_Globulin_Ratio</th>\n",
              "                        <td id=\"T_38989558_4603_11ec_8a4c_0242ac1c0002row8_col0\" class=\"data row8 col0\" >-0.216089</td>\n",
              "                        <td id=\"T_38989558_4603_11ec_8a4c_0242ac1c0002row8_col1\" class=\"data row8 col1\" >-0.206159</td>\n",
              "                        <td id=\"T_38989558_4603_11ec_8a4c_0242ac1c0002row8_col2\" class=\"data row8 col2\" >-0.200004</td>\n",
              "                        <td id=\"T_38989558_4603_11ec_8a4c_0242ac1c0002row8_col3\" class=\"data row8 col3\" >-0.233960</td>\n",
              "                        <td id=\"T_38989558_4603_11ec_8a4c_0242ac1c0002row8_col4\" class=\"data row8 col4\" >-0.002374</td>\n",
              "                        <td id=\"T_38989558_4603_11ec_8a4c_0242ac1c0002row8_col5\" class=\"data row8 col5\" >-0.070024</td>\n",
              "                        <td id=\"T_38989558_4603_11ec_8a4c_0242ac1c0002row8_col6\" class=\"data row8 col6\" >0.233904</td>\n",
              "                        <td id=\"T_38989558_4603_11ec_8a4c_0242ac1c0002row8_col7\" class=\"data row8 col7\" >0.686322</td>\n",
              "                        <td id=\"T_38989558_4603_11ec_8a4c_0242ac1c0002row8_col8\" class=\"data row8 col8\" >1.000000</td>\n",
              "                        <td id=\"T_38989558_4603_11ec_8a4c_0242ac1c0002row8_col9\" class=\"data row8 col9\" >0.162319</td>\n",
              "            </tr>\n",
              "            <tr>\n",
              "                        <th id=\"T_38989558_4603_11ec_8a4c_0242ac1c0002level0_row9\" class=\"row_heading level0 row9\" >Dataset</th>\n",
              "                        <td id=\"T_38989558_4603_11ec_8a4c_0242ac1c0002row9_col0\" class=\"data row9 col0\" >-0.137351</td>\n",
              "                        <td id=\"T_38989558_4603_11ec_8a4c_0242ac1c0002row9_col1\" class=\"data row9 col1\" >-0.220208</td>\n",
              "                        <td id=\"T_38989558_4603_11ec_8a4c_0242ac1c0002row9_col2\" class=\"data row9 col2\" >-0.246046</td>\n",
              "                        <td id=\"T_38989558_4603_11ec_8a4c_0242ac1c0002row9_col3\" class=\"data row9 col3\" >-0.184866</td>\n",
              "                        <td id=\"T_38989558_4603_11ec_8a4c_0242ac1c0002row9_col4\" class=\"data row9 col4\" >-0.163416</td>\n",
              "                        <td id=\"T_38989558_4603_11ec_8a4c_0242ac1c0002row9_col5\" class=\"data row9 col5\" >-0.151934</td>\n",
              "                        <td id=\"T_38989558_4603_11ec_8a4c_0242ac1c0002row9_col6\" class=\"data row9 col6\" >0.035008</td>\n",
              "                        <td id=\"T_38989558_4603_11ec_8a4c_0242ac1c0002row9_col7\" class=\"data row9 col7\" >0.161388</td>\n",
              "                        <td id=\"T_38989558_4603_11ec_8a4c_0242ac1c0002row9_col8\" class=\"data row9 col8\" >0.162319</td>\n",
              "                        <td id=\"T_38989558_4603_11ec_8a4c_0242ac1c0002row9_col9\" class=\"data row9 col9\" >1.000000</td>\n",
              "            </tr>\n",
              "    </tbody></table>"
            ],
            "text/plain": [
              "<pandas.io.formats.style.Styler at 0x7f41881f0350>"
            ]
          },
          "metadata": {},
          "execution_count": 8
        }
      ]
    },
    {
      "cell_type": "markdown",
      "metadata": {
        "id": "5Z-nO3Pd9Ha2"
      },
      "source": [
        "The above correlation heatmap demonstrates strong positive (closer to 1) and negative correlations (closer to -1) but also weak positive and negative correlations (closer to zero). \n",
        "\n"
      ]
    },
    {
      "cell_type": "markdown",
      "metadata": {
        "id": "wb1dhkVeBRUO"
      },
      "source": [
        "Based on the correlative pair plots, we find some interesting results directly.\n",
        "\n",
        "-Positive correlations:\n",
        "\n",
        "Total Bilirubin and Direct Bilirubin (vice-versa)\n",
        "\n",
        "Alamine Aminotransferase and Aspartate Aminotransferase (vice-versa)\n",
        "\n",
        "Total Protein and Albumin (vice-versa)\n",
        "\n",
        "Albumin and Globulin Ratio and Albumin (vice-versa)\n",
        "\n",
        "Total Protein and Albumin and Globulin Ration (vice-versa)\n",
        "\n",
        "-Negative correlations:\n",
        "\n",
        "Total Protein and age (vice-versa)\n",
        "\n",
        "Albumin and age (vice-versa)\n",
        "\n",
        "Albumin and Globulin Ration and age (vice-versa)\n"
      ]
    },
    {
      "cell_type": "code",
      "metadata": {
        "trusted": true,
        "colab": {
          "base_uri": "https://localhost:8080/",
          "height": 226
        },
        "id": "U_WRqBie9Ha3",
        "outputId": "78a173f8-1455-4458-d77f-df938861256f"
      },
      "source": [
        "# Change the current categorical feature Gender to a numerical feature of 0 or 1 \n",
        "\n",
        "df_liver['Gender'] = df_liver['Gender'].apply(lambda x:1 if x == 'Male' else 0)\n",
        "df_liver.head()"
      ],
      "execution_count": null,
      "outputs": [
        {
          "output_type": "execute_result",
          "data": {
            "text/html": [
              "<div>\n",
              "<style scoped>\n",
              "    .dataframe tbody tr th:only-of-type {\n",
              "        vertical-align: middle;\n",
              "    }\n",
              "\n",
              "    .dataframe tbody tr th {\n",
              "        vertical-align: top;\n",
              "    }\n",
              "\n",
              "    .dataframe thead th {\n",
              "        text-align: right;\n",
              "    }\n",
              "</style>\n",
              "<table border=\"1\" class=\"dataframe\">\n",
              "  <thead>\n",
              "    <tr style=\"text-align: right;\">\n",
              "      <th></th>\n",
              "      <th>Age</th>\n",
              "      <th>Gender</th>\n",
              "      <th>Total_Bilirubin</th>\n",
              "      <th>Direct_Bilirubin</th>\n",
              "      <th>Alkaline_Phosphotase</th>\n",
              "      <th>Alamine_Aminotransferase</th>\n",
              "      <th>Aspartate_Aminotransferase</th>\n",
              "      <th>Total_Protiens</th>\n",
              "      <th>Albumin</th>\n",
              "      <th>Albumin_and_Globulin_Ratio</th>\n",
              "      <th>Dataset</th>\n",
              "    </tr>\n",
              "  </thead>\n",
              "  <tbody>\n",
              "    <tr>\n",
              "      <th>0</th>\n",
              "      <td>65</td>\n",
              "      <td>0</td>\n",
              "      <td>0.7</td>\n",
              "      <td>0.1</td>\n",
              "      <td>187</td>\n",
              "      <td>16</td>\n",
              "      <td>18</td>\n",
              "      <td>6.8</td>\n",
              "      <td>3.3</td>\n",
              "      <td>0.90</td>\n",
              "      <td>1</td>\n",
              "    </tr>\n",
              "    <tr>\n",
              "      <th>1</th>\n",
              "      <td>62</td>\n",
              "      <td>1</td>\n",
              "      <td>10.9</td>\n",
              "      <td>5.5</td>\n",
              "      <td>699</td>\n",
              "      <td>64</td>\n",
              "      <td>100</td>\n",
              "      <td>7.5</td>\n",
              "      <td>3.2</td>\n",
              "      <td>0.74</td>\n",
              "      <td>1</td>\n",
              "    </tr>\n",
              "    <tr>\n",
              "      <th>2</th>\n",
              "      <td>62</td>\n",
              "      <td>1</td>\n",
              "      <td>7.3</td>\n",
              "      <td>4.1</td>\n",
              "      <td>490</td>\n",
              "      <td>60</td>\n",
              "      <td>68</td>\n",
              "      <td>7.0</td>\n",
              "      <td>3.3</td>\n",
              "      <td>0.89</td>\n",
              "      <td>1</td>\n",
              "    </tr>\n",
              "    <tr>\n",
              "      <th>3</th>\n",
              "      <td>58</td>\n",
              "      <td>1</td>\n",
              "      <td>1.0</td>\n",
              "      <td>0.4</td>\n",
              "      <td>182</td>\n",
              "      <td>14</td>\n",
              "      <td>20</td>\n",
              "      <td>6.8</td>\n",
              "      <td>3.4</td>\n",
              "      <td>1.00</td>\n",
              "      <td>1</td>\n",
              "    </tr>\n",
              "    <tr>\n",
              "      <th>4</th>\n",
              "      <td>72</td>\n",
              "      <td>1</td>\n",
              "      <td>3.9</td>\n",
              "      <td>2.0</td>\n",
              "      <td>195</td>\n",
              "      <td>27</td>\n",
              "      <td>59</td>\n",
              "      <td>7.3</td>\n",
              "      <td>2.4</td>\n",
              "      <td>0.40</td>\n",
              "      <td>1</td>\n",
              "    </tr>\n",
              "  </tbody>\n",
              "</table>\n",
              "</div>"
            ],
            "text/plain": [
              "   Age  Gender  Total_Bilirubin  ...  Albumin  Albumin_and_Globulin_Ratio  Dataset\n",
              "0   65       0              0.7  ...      3.3                        0.90        1\n",
              "1   62       1             10.9  ...      3.2                        0.74        1\n",
              "2   62       1              7.3  ...      3.3                        0.89        1\n",
              "3   58       1              1.0  ...      3.4                        1.00        1\n",
              "4   72       1              3.9  ...      2.4                        0.40        1\n",
              "\n",
              "[5 rows x 11 columns]"
            ]
          },
          "metadata": {},
          "execution_count": 9
        }
      ]
    },
    {
      "cell_type": "code",
      "metadata": {
        "trusted": true,
        "colab": {
          "base_uri": "https://localhost:8080/",
          "height": 367
        },
        "id": "TsXaSws_9Ha4",
        "outputId": "25c1c82f-1364-4e4b-aaad-073912d6da5d"
      },
      "source": [
        "# Create a table for Dataset (with and without liver disease) and gender\n",
        "df_liver_Gender = round(df_liver[['Gender', 'Dataset']].groupby(['Gender'], as_index=False).agg(np.sum), 3)\n",
        "\n",
        "# Generate plot to determine the effect of gender on the dataset \n",
        "plt.figure(figsize=(10,5))\n",
        "\n",
        "sns.barplot(x=\"Gender\", y=\"Dataset\", data=df_liver_Gender, ci=None)\n",
        "plt.title(\"Survival wrt Gender\")\n",
        "plt.ylim(0, 700)"
      ],
      "execution_count": null,
      "outputs": [
        {
          "output_type": "execute_result",
          "data": {
            "text/plain": [
              "(0.0, 700.0)"
            ]
          },
          "metadata": {},
          "execution_count": 10
        },
        {
          "output_type": "display_data",
          "data": {
            "image/png": "[encoded data removed]",
            "text/plain": [
              "<Figure size 720x360 with 1 Axes>"
            ]
          },
          "metadata": {
            "needs_background": "light"
          }
        }
      ]
    },
    {
      "cell_type": "markdown",
      "metadata": {
        "id": "C74w85gB9Ha6"
      },
      "source": [
        "It appears from these plots that men normally have high liver function test results and hence are likely to have liver disease. This is likely because culturally men in NE of Andhra Pradesh in India consume alchohol more than women. Let us now look a dsitribution plot for all the liver function tests in relation to the target feature and gender."
      ]
    },
    {
      "cell_type": "code",
      "metadata": {
        "trusted": true,
        "colab": {
          "base_uri": "https://localhost:8080/",
          "height": 512
        },
        "id": "KVSpMv-c9Ha7",
        "outputId": "80af89dc-6608-4228-a563-526533b616f2"
      },
      "source": [
        "# Figure configuration\n",
        "fig, axes = plt.subplots(1, 2, figsize=(15, 5))\n",
        "\n",
        "# Visualize the effect of the dataset(with or without disease) based on both Age and Gender.\n",
        "ld = 'Liver Disease'\n",
        "no_ld = 'No Liver Disease'\n",
        "ax = sns.distplot(df_liver[df_liver['Gender'] == 0][df_liver[df_liver['Gender'] == 0]['Dataset'] == 1]['Age'], \n",
        "                  bins=18, label=ld, ax=axes[0], kde=False, color='blue')\n",
        "ax = sns.distplot(df_liver[df_liver['Gender'] == 0][df_liver[df_liver['Gender'] == 0]['Dataset'] == 2]['Age'], \n",
        "                  bins=40, label=no_ld, ax=axes[0], kde=False, color='red')\n",
        "ax.legend()\n",
        "ax.set_title('Female')\n",
        "ax.set_ylabel('Counts')\n",
        "ax = sns.distplot(df_liver[df_liver['Gender'] == 1][df_liver[df_liver['Gender'] == 1]['Dataset'] == 1]['Age'], \n",
        "                  bins=18, label=ld, ax=axes[1], kde=False, color='blue')\n",
        "ax = sns.distplot(df_liver[df_liver['Gender'] == 1][df_liver[df_liver['Gender'] == 1]['Dataset'] == 2]['Age'], \n",
        "                  bins=40, label=no_ld, ax=axes[1], kde=False, color='red')\n",
        "ax.legend()\n",
        "ax.set_title('Male')"
      ],
      "execution_count": null,
      "outputs": [
        {
          "output_type": "stream",
          "name": "stderr",
          "text": [
            "/usr/local/lib/python3.7/dist-packages/seaborn/distributions.py:2619: FutureWarning: `distplot` is a deprecated function and will be removed in a future version. Please adapt your code to use either `displot` (a figure-level function with similar flexibility) or `histplot` (an axes-level function for histograms).\n",
            "  warnings.warn(msg, FutureWarning)\n",
            "/usr/local/lib/python3.7/dist-packages/seaborn/distributions.py:2619: FutureWarning: `distplot` is a deprecated function and will be removed in a future version. Please adapt your code to use either `displot` (a figure-level function with similar flexibility) or `histplot` (an axes-level function for histograms).\n",
            "  warnings.warn(msg, FutureWarning)\n",
            "/usr/local/lib/python3.7/dist-packages/seaborn/distributions.py:2619: FutureWarning: `distplot` is a deprecated function and will be removed in a future version. Please adapt your code to use either `displot` (a figure-level function with similar flexibility) or `histplot` (an axes-level function for histograms).\n",
            "  warnings.warn(msg, FutureWarning)\n",
            "/usr/local/lib/python3.7/dist-packages/seaborn/distributions.py:2619: FutureWarning: `distplot` is a deprecated function and will be removed in a future version. Please adapt your code to use either `displot` (a figure-level function with similar flexibility) or `histplot` (an axes-level function for histograms).\n",
            "  warnings.warn(msg, FutureWarning)\n"
          ]
        },
        {
          "output_type": "execute_result",
          "data": {
            "text/plain": [
              "Text(0.5, 1.0, 'Male')"
            ]
          },
          "metadata": {},
          "execution_count": 11
        },
        {
          "output_type": "display_data",
          "data": {
            "image/png": "[encoded data removed]",
            "text/plain": [
              "<Figure size 1080x360 with 2 Axes>"
            ]
          },
          "metadata": {
            "needs_background": "light"
          }
        }
      ]
    },
    {
      "cell_type": "markdown",
      "metadata": {
        "id": "axs_7cUM9Ha8"
      },
      "source": [
        "This distribution plot shows some interesting things,\n",
        "\n",
        "1)On average, women tend not to have liver disease than men.\n",
        "\n",
        "2)The greatest number of women without liver disease were about 38 yrs old.\n",
        "\n",
        "3)Girls around the age of 10 had liver disease, this may be a genetic link.\n",
        "\n",
        "4)Men are more prone to liver disease (may be due to alcoholism).\n",
        "\n",
        "5)The greatest number of men without liver diseae were about 38 yrs old.\n"
      ]
    },
    {
      "cell_type": "markdown",
      "metadata": {
        "id": "zbJcNuv79HbE"
      },
      "source": [
        "#  Applying machine learning approaches to liver disease"
      ]
    },
    {
      "cell_type": "markdown",
      "metadata": {
        "id": "gv2s0a899HbH"
      },
      "source": [
        "I will employ the following supervised  machine learning models, whilst evaluating the mean accuracy of each of them by a stratified kfold cross validation procedure.\n"
      ]
    },
    {
      "cell_type": "code",
      "metadata": {
        "trusted": true,
        "id": "xge-tWsr9HbH"
      },
      "source": [
        "# Machine learning libraries in sklearn\n",
        "\n",
        "from sklearn.ensemble import RandomForestClassifier\n",
        "from sklearn.preprocessing import MinMaxScaler\n",
        "from sklearn.metrics import accuracy_score\n",
        "\n",
        "from sklearn.model_selection import StratifiedKFold, train_test_split, cross_val_score\n",
        "\n",
        "from sklearn.linear_model import LogisticRegression\n",
        "from sklearn.neighbors import KNeighborsClassifier\n",
        "from sklearn.tree import DecisionTreeClassifier\n"
      ],
      "execution_count": null,
      "outputs": []
    },
    {
      "cell_type": "code",
      "metadata": {
        "trusted": true,
        "id": "YqzDPDuW9HbI"
      },
      "source": [
        "\n",
        "K_fold = StratifiedKFold(n_splits=10)"
      ],
      "execution_count": null,
      "outputs": []
    },
    {
      "cell_type": "code",
      "metadata": {
        "trusted": true,
        "colab": {
          "base_uri": "https://localhost:8080/"
        },
        "id": "hUE_dWSM9HbI",
        "outputId": "02ce367a-5d3f-4999-e3f7-f76c673d10e5"
      },
      "source": [
        "# Separate train features and response\n",
        "X = df_liver.drop([\"Dataset\"],axis = 1)\n",
        "Y = df_liver[\"Dataset\"]\n",
        "\n",
        "\n",
        "\n",
        "# Scale the data\n",
        "scaler=MinMaxScaler()\n",
        "scaled_values=scaler.fit_transform(X)\n",
        "X.loc[:,:]=scaled_values\n",
        "\n",
        "# Create the Train and Test sets\n",
        "# Splitting the train and test into 70% training and 30% testing\n",
        "X_train, X_test, Y_train, Y_test=train_test_split(X,Y,stratify=Y, test_size=0.3,random_state=42)\n",
        "\n",
        "\n",
        "# Find the shape of all sets\n",
        "X_train.shape, Y_train.shape, X_test.shape, Y_test.shape"
      ],
      "execution_count": null,
      "outputs": [
        {
          "output_type": "execute_result",
          "data": {
            "text/plain": [
              "((408, 10), (408,), (175, 10), (175,))"
            ]
          },
          "metadata": {},
          "execution_count": 14
        }
      ]
    },
    {
      "cell_type": "markdown",
      "metadata": {
        "id": "DomQ3PWQ9HbI"
      },
      "source": [
        "##### Logistic regression"
      ]
    },
    {
      "cell_type": "markdown",
      "metadata": {
        "id": "KA8GdIC_9HbJ"
      },
      "source": [
        "Logistic regression models the probabilities for classification problems with two possible outcomes. Furthermore, this models is an extension of the linear regression model but for classification problems."
      ]
    },
    {
      "cell_type": "code",
      "metadata": {
        "trusted": true,
        "colab": {
          "base_uri": "https://localhost:8080/"
        },
        "id": "vvrsNJ7S9HbJ",
        "outputId": "6fc15ef3-bf07-4650-efb1-9f2cd794da05"
      },
      "source": [
        "# Logistic Regression\n",
        "model_logreg = LogisticRegression()\n",
        "model_logreg.fit(X_train,Y_train)\n",
        "y_pred = model_logreg.predict(X_test)\n",
        "\n",
        "scores = cross_val_score(model_logreg, X_train, Y_train, cv=K_fold, n_jobs=4, scoring='accuracy')\n",
        "\n",
        "print(scores)\n",
        "score_logreg = round(np.mean(scores) * 100, 3)\n",
        "print(\"Score: {}\".format(score_logreg))\n",
        "acc_logreg = round(np.mean(accuracy_score(Y_test, y_pred)) * 100, 3)\n",
        "print(\"Accuracy: {}\".format(acc_logreg))"
      ],
      "execution_count": null,
      "outputs": [
        {
          "output_type": "stream",
          "name": "stdout",
          "text": [
            "[0.73170732 0.73170732 0.70731707 0.68292683 0.70731707 0.68292683\n",
            " 0.70731707 0.73170732 0.725      0.725     ]\n",
            "Score: 71.329\n",
            "Accuracy: 72.0\n"
          ]
        }
      ]
    },
    {
      "cell_type": "markdown",
      "metadata": {
        "id": "tstL7fdH9HbJ"
      },
      "source": [
        "##### KNeighborsClassifier"
      ]
    },
    {
      "cell_type": "markdown",
      "metadata": {
        "id": "E-ZTp_DP9HbK"
      },
      "source": [
        "This is a  test that searches for the K nearest measurements of the training data and draws a Euclidean distance. It then votes based on that information of how to classify the data."
      ]
    },
    {
      "cell_type": "code",
      "metadata": {
        "trusted": true,
        "colab": {
          "base_uri": "https://localhost:8080/"
        },
        "id": "WirgxV059HbK",
        "outputId": "cb12637f-254e-4ea5-8b33-4f52ed1a5034"
      },
      "source": [
        "# K-Neighbors \n",
        "model_knn = KNeighborsClassifier(n_neighbors=5)\n",
        "model_knn.fit(X_train, Y_train)\n",
        "y_pred = model_knn.predict(X_test)\n",
        "\n",
        "scores = cross_val_score(model_knn, X_train, Y_train, cv=K_fold, n_jobs=4, scoring='accuracy')\n",
        "\n",
        "print(scores)\n",
        "score_knn = round(np.mean(scores) * 100, 3)\n",
        "print(\"Score: {}\".format(score_knn))\n",
        "acc_knn = round(np.mean(accuracy_score(Y_test, y_pred)) * 100, 3)\n",
        "print(\"Accuracy: {}\".format(acc_knn))"
      ],
      "execution_count": null,
      "outputs": [
        {
          "output_type": "stream",
          "name": "stdout",
          "text": [
            "[0.73170732 0.70731707 0.70731707 0.58536585 0.56097561 0.75609756\n",
            " 0.63414634 0.70731707 0.725      0.6       ]\n",
            "Score: 67.152\n",
            "Accuracy: 65.143\n"
          ]
        }
      ]
    },
    {
      "cell_type": "markdown",
      "metadata": {
        "id": "Xbponwqy9HbM"
      },
      "source": [
        "##### Decision Tree Classifier"
      ]
    },
    {
      "cell_type": "markdown",
      "metadata": {
        "id": "glmLOaMd9HbM"
      },
      "source": [
        "The data is continously split according to a certain parameter, in this case we are basing it on the features."
      ]
    },
    {
      "cell_type": "code",
      "metadata": {
        "trusted": true,
        "colab": {
          "base_uri": "https://localhost:8080/"
        },
        "id": "l9kgeWSN9HbM",
        "outputId": "0da9633c-fc96-47a7-f429-8558aae01564"
      },
      "source": [
        "# Decision Tree \n",
        "model_dtc = DecisionTreeClassifier()\n",
        "model_dtc.fit(X_train, Y_train)\n",
        "y_pred = model_dtc.predict(X_test)\n",
        "\n",
        "scores = cross_val_score(model_dtc, X_train, Y_train, cv=K_fold, n_jobs=4, scoring='accuracy')\n",
        "\n",
        "print(scores)\n",
        "score_dtc = round(np.mean(scores) * 100, 3)\n",
        "print(\"Score: {}\".format(score_dtc))\n",
        "acc_dtc = round(np.mean(accuracy_score(Y_test, y_pred)) * 100, 3)\n",
        "print(\"Accuracy: {}\".format(acc_dtc))"
      ],
      "execution_count": null,
      "outputs": [
        {
          "output_type": "stream",
          "name": "stdout",
          "text": [
            "[0.68292683 0.63414634 0.70731707 0.68292683 0.63414634 0.58536585\n",
            " 0.70731707 0.65853659 0.65       0.675     ]\n",
            "Score: 66.177\n",
            "Accuracy: 65.143\n"
          ]
        }
      ]
    },
    {
      "cell_type": "markdown",
      "metadata": {
        "id": "Y6fGawBB9HbN"
      },
      "source": [
        "##### Random Forest Classifier"
      ]
    },
    {
      "cell_type": "markdown",
      "metadata": {
        "id": "D7LF7RlD9HbN"
      },
      "source": [
        "Random forest classifier creates decision trees on randomly selected data samples. The model obtains prediction from each tree and subsequently selects the best solution by means of voting. Furthermore, random forest classfier also provides a very good indicator of the feature importance.\n"
      ]
    },
    {
      "cell_type": "code",
      "metadata": {
        "trusted": true,
        "colab": {
          "base_uri": "https://localhost:8080/"
        },
        "id": "HQyKRj2X9HbN",
        "outputId": "a2838986-3444-466d-89ea-7cc867af4ddb"
      },
      "source": [
        "# Random Forest \n",
        "model_rfc = RandomForestClassifier(n_estimators=50)\n",
        "model_rfc.fit(X_train, Y_train)\n",
        "y_pred = model_rfc.predict(X_test)\n",
        "\n",
        "scores = cross_val_score(model_rfc, X_train, Y_train, cv=K_fold, n_jobs=4, scoring ='accuracy')\n",
        "\n",
        "print(scores)\n",
        "score_rfc = round(np.mean(scores) * 100, 3)\n",
        "print(\"Score: {}\".format(score_rfc))\n",
        "acc_rfc = round(np.mean(accuracy_score(Y_test, y_pred)) * 100, 3)\n",
        "print(\"Accuracy: {}\".format(acc_rfc))"
      ],
      "execution_count": null,
      "outputs": [
        {
          "output_type": "stream",
          "name": "stdout",
          "text": [
            "[0.6097561  0.75609756 0.70731707 0.70731707 0.73170732 0.58536585\n",
            " 0.82926829 0.63414634 0.65       0.775     ]\n",
            "Score: 69.86\n",
            "Accuracy: 67.429\n"
          ]
        }
      ]
    },
    {
      "cell_type": "markdown",
      "metadata": {
        "id": "xZOgOxGk9HbR"
      },
      "source": [
        "##### Which is the best model?"
      ]
    },
    {
      "cell_type": "code",
      "metadata": {
        "trusted": true,
        "colab": {
          "base_uri": "https://localhost:8080/",
          "height": 206
        },
        "id": "3vwJ1lMx9HbR",
        "outputId": "6db48f05-ffb6-45d8-bc06-5b70f7b50115"
      },
      "source": [
        "results = pd.DataFrame({'Model': ['Logistic Regression','KNeighbor', \n",
        "                                  'Decision Tree ', 'Random Forest ', \n",
        "                                  ],\n",
        "                        'Accuracy': [acc_logreg, acc_knn,  acc_dtc, acc_rfc, \n",
        "                                  ], \n",
        "                        'Score': [score_logreg, score_knn, score_dtc, score_rfc,  \n",
        "                              ],})\n",
        "df_results = results.sort_values(by='Score', ascending=False)\n",
        "df_results = df_results.set_index('Score')\n",
        "df_results"
      ],
      "execution_count": null,
      "outputs": [
        {
          "output_type": "execute_result",
          "data": {
            "text/html": [
              "<div>\n",
              "<style scoped>\n",
              "    .dataframe tbody tr th:only-of-type {\n",
              "        vertical-align: middle;\n",
              "    }\n",
              "\n",
              "    .dataframe tbody tr th {\n",
              "        vertical-align: top;\n",
              "    }\n",
              "\n",
              "    .dataframe thead th {\n",
              "        text-align: right;\n",
              "    }\n",
              "</style>\n",
              "<table border=\"1\" class=\"dataframe\">\n",
              "  <thead>\n",
              "    <tr style=\"text-align: right;\">\n",
              "      <th></th>\n",
              "      <th>Model</th>\n",
              "      <th>Accuracy</th>\n",
              "    </tr>\n",
              "    <tr>\n",
              "      <th>Score</th>\n",
              "      <th></th>\n",
              "      <th></th>\n",
              "    </tr>\n",
              "  </thead>\n",
              "  <tbody>\n",
              "    <tr>\n",
              "      <th>71.329</th>\n",
              "      <td>Logistic Regression</td>\n",
              "      <td>72.000</td>\n",
              "    </tr>\n",
              "    <tr>\n",
              "      <th>69.860</th>\n",
              "      <td>Random Forest</td>\n",
              "      <td>67.429</td>\n",
              "    </tr>\n",
              "    <tr>\n",
              "      <th>67.152</th>\n",
              "      <td>KNeighbor</td>\n",
              "      <td>65.143</td>\n",
              "    </tr>\n",
              "    <tr>\n",
              "      <th>66.177</th>\n",
              "      <td>Decision Tree</td>\n",
              "      <td>65.143</td>\n",
              "    </tr>\n",
              "  </tbody>\n",
              "</table>\n",
              "</div>"
            ],
            "text/plain": [
              "                      Model  Accuracy\n",
              "Score                                \n",
              "71.329  Logistic Regression    72.000\n",
              "69.860       Random Forest     67.429\n",
              "67.152            KNeighbor    65.143\n",
              "66.177       Decision Tree     65.143"
            ]
          },
          "metadata": {},
          "execution_count": 19
        }
      ]
    },
    {
      "cell_type": "code",
      "metadata": {
        "trusted": true,
        "id": "HrnhlFPU9HbS"
      },
      "source": [
        ""
      ],
      "execution_count": null,
      "outputs": []
    }
  ]
}